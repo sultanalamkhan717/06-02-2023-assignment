{
 "cells": [
  {
   "cell_type": "markdown",
   "id": "5fc67fae-eedf-41ab-8353-01256ce93ef7",
   "metadata": {},
   "source": [
    "#answer no 1"
   ]
  },
  {
   "cell_type": "code",
   "execution_count": 6,
   "id": "2deb3dc3-0099-41ee-b0eb-1ea2a92fb44a",
   "metadata": {},
   "outputs": [],
   "source": [
    "def product_of_numbers(lst):\n",
    "    \n",
    "    flat_list = []\n",
    "    for item in lst:\n",
    "        if isinstance(item, (int, float, complex)):\n",
    "            flat_list.append(item)\n",
    "        elif isinstance(item, (list, tuple, set)):\n",
    "            for sub_item in item:\n",
    "                if isinstance(sub_item, (int, float, complex)):\n",
    "                    flat_list.append(sub_item)\n",
    "        elif isinstance(item, dict):\n",
    "            for key, value in item.items():\n",
    "                if isinstance(key, (int, float, complex)):\n",
    "                    flat_list.append(key)\n",
    "                if isinstance(value, (int, float, complex)):\n",
    "                    flat_list.append(value)\n",
    "    \n",
    "   \n",
    "    product = 1\n",
    "    for num in flat_list:\n",
    "        product *= num\n",
    "    \n",
    "    return product\n"
   ]
  },
  {
   "cell_type": "code",
   "execution_count": 7,
   "id": "b594475b-8feb-4cc7-bc79-10deefb43b6c",
   "metadata": {},
   "outputs": [
    {
     "name": "stdout",
     "output_type": "stream",
     "text": [
      "0\n"
     ]
    }
   ],
   "source": [
    "list1 = [1,2,3,4, [44,55,66, True], False, (34,56,78,89,34), {1,2,3,3,2,1}, {1:34, \"key2\": [55, 67, 78, 89], 4: (45, 22, 61, 34)}, [56, 'data science'], 'Machine Learning']\n",
    "print(product_of_numbers(list1))\n"
   ]
  },
  {
   "cell_type": "markdown",
   "id": "ff8fa17a-267c-4eee-ae60-3e2c55fcb3ff",
   "metadata": {},
   "source": [
    "#ANSWER 2"
   ]
  },
  {
   "cell_type": "code",
   "execution_count": 15,
   "id": "be4fe983-f201-4b67-9738-3b28e9f68399",
   "metadata": {},
   "outputs": [
    {
     "name": "stdout",
     "output_type": "stream",
     "text": [
      "r$dzmg$gl$yvxlnv$z$wzgz$hxrvmgrhg.\n"
     ]
    }
   ],
   "source": [
    "def encrypt(message):\n",
    "    encrypted = ''\n",
    "    for char in message:\n",
    "        if char == ' ':\n",
    "            encrypted += '$'\n",
    "        elif char.isalpha():\n",
    "            encrypted += chr(ord('a') + (25 - (ord(char.lower()) - ord('a'))))\n",
    "        else:\n",
    "            encrypted += char\n",
    "    return encrypted\n",
    "\n",
    "input_sentence = 'I want to become a Data Scientist.'\n",
    "input_sentence = input_sentence.lower() \n",
    "encrypted_message = encrypt(input_sentence)\n",
    "print(encrypted_message)\n"
   ]
  },
  {
   "cell_type": "code",
   "execution_count": null,
   "id": "12dc15f7-89cd-4024-a4fe-d72b4a4a8739",
   "metadata": {},
   "outputs": [],
   "source": []
  }
 ],
 "metadata": {
  "kernelspec": {
   "display_name": "Python 3 (ipykernel)",
   "language": "python",
   "name": "python3"
  },
  "language_info": {
   "codemirror_mode": {
    "name": "ipython",
    "version": 3
   },
   "file_extension": ".py",
   "mimetype": "text/x-python",
   "name": "python",
   "nbconvert_exporter": "python",
   "pygments_lexer": "ipython3",
   "version": "3.10.8"
  }
 },
 "nbformat": 4,
 "nbformat_minor": 5
}
